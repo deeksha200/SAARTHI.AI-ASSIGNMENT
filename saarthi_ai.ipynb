{
  "nbformat": 4,
  "nbformat_minor": 0,
  "metadata": {
    "colab": {
      "name": "saarthi.ai.ipynb",
      "provenance": [],
      "collapsed_sections": [],
      "authorship_tag": "ABX9TyNSefBaMXCXNie55GFIkvu/",
      "include_colab_link": true
    },
    "kernelspec": {
      "name": "python3",
      "display_name": "Python 3"
    },
    "language_info": {
      "name": "python"
    }
  },
  "cells": [
    {
      "cell_type": "markdown",
      "metadata": {
        "id": "view-in-github",
        "colab_type": "text"
      },
      "source": [
        "<a href=\"https://colab.research.google.com/github/deeksha200/SAARTHI.AI-ASSIGNMENT/blob/main/saarthi_ai.ipynb\" target=\"_parent\"><img src=\"https://colab.research.google.com/assets/colab-badge.svg\" alt=\"Open In Colab\"/></a>"
      ]
    },
    {
      "cell_type": "markdown",
      "metadata": {
        "id": "yGt4mY3oadLF"
      },
      "source": [
        "**IMPORTING ALL NECESSARY LIBRARIES**"
      ]
    },
    {
      "cell_type": "code",
      "metadata": {
        "id": "MHOgdZOE9jNc"
      },
      "source": [
        "import numpy as np\n",
        "import pandas as pd\n",
        "import seaborn as sns\n",
        "import matplotlib.pyplot as plt\n",
        "import nltk\n",
        "from sklearn.preprocessing import LabelBinarizer\n",
        "from nltk.corpus import stopwords\n",
        "from nltk.stem.porter import PorterStemmer\n",
        "from wordcloud import WordCloud,STOPWORDS\n",
        "from nltk.stem import WordNetLemmatizer\n",
        "from nltk.tokenize import word_tokenize,sent_tokenize"
      ],
      "execution_count": 44,
      "outputs": []
    },
    {
      "cell_type": "markdown",
      "metadata": {
        "id": "qQL0CvfVacD5"
      },
      "source": [
        "**READING THE DATA**"
      ]
    },
    {
      "cell_type": "code",
      "metadata": {
        "colab": {
          "base_uri": "https://localhost:8080/",
          "height": 203
        },
        "id": "hF88qe3e-Tll",
        "outputId": "b7bfefe7-e253-4015-ff0f-23b31b288dfe"
      },
      "source": [
        "train=pd.read_csv(\"/content/train_data.csv\")\n",
        "train.head()"
      ],
      "execution_count": 45,
      "outputs": [
        {
          "output_type": "execute_result",
          "data": {
            "text/html": [
              "<div>\n",
              "<style scoped>\n",
              "    .dataframe tbody tr th:only-of-type {\n",
              "        vertical-align: middle;\n",
              "    }\n",
              "\n",
              "    .dataframe tbody tr th {\n",
              "        vertical-align: top;\n",
              "    }\n",
              "\n",
              "    .dataframe thead th {\n",
              "        text-align: right;\n",
              "    }\n",
              "</style>\n",
              "<table border=\"1\" class=\"dataframe\">\n",
              "  <thead>\n",
              "    <tr style=\"text-align: right;\">\n",
              "      <th></th>\n",
              "      <th>path</th>\n",
              "      <th>transcription</th>\n",
              "      <th>action</th>\n",
              "      <th>object</th>\n",
              "      <th>location</th>\n",
              "    </tr>\n",
              "  </thead>\n",
              "  <tbody>\n",
              "    <tr>\n",
              "      <th>0</th>\n",
              "      <td>wavs/speakers/xRQE5VD7rRHVdyvM/7372ca00-45c4-1...</td>\n",
              "      <td>Turn on the kitchen lights</td>\n",
              "      <td>activate</td>\n",
              "      <td>lights</td>\n",
              "      <td>kitchen</td>\n",
              "    </tr>\n",
              "    <tr>\n",
              "      <th>1</th>\n",
              "      <td>wavs/speakers/R3mexpM2YAtdPbL7/dae28110-44fe-1...</td>\n",
              "      <td>Turn up the temperature</td>\n",
              "      <td>increase</td>\n",
              "      <td>heat</td>\n",
              "      <td>none</td>\n",
              "    </tr>\n",
              "    <tr>\n",
              "      <th>2</th>\n",
              "      <td>wavs/speakers/ZebMRl5Z7dhrPKRD/b55dcfd0-455d-1...</td>\n",
              "      <td>OK now switch the main language to Chinese</td>\n",
              "      <td>change language</td>\n",
              "      <td>Chinese</td>\n",
              "      <td>none</td>\n",
              "    </tr>\n",
              "    <tr>\n",
              "      <th>3</th>\n",
              "      <td>wavs/speakers/ppzZqYxGkESMdA5Az/61c54a20-4476-...</td>\n",
              "      <td>Turn down the bathroom temperature</td>\n",
              "      <td>decrease</td>\n",
              "      <td>heat</td>\n",
              "      <td>washroom</td>\n",
              "    </tr>\n",
              "    <tr>\n",
              "      <th>4</th>\n",
              "      <td>wavs/speakers/zaEBPeMY4NUbDnZy/8ef57ec0-44df-1...</td>\n",
              "      <td>Change the language</td>\n",
              "      <td>change language</td>\n",
              "      <td>none</td>\n",
              "      <td>none</td>\n",
              "    </tr>\n",
              "  </tbody>\n",
              "</table>\n",
              "</div>"
            ],
            "text/plain": [
              "                                                path  ...  location\n",
              "0  wavs/speakers/xRQE5VD7rRHVdyvM/7372ca00-45c4-1...  ...   kitchen\n",
              "1  wavs/speakers/R3mexpM2YAtdPbL7/dae28110-44fe-1...  ...      none\n",
              "2  wavs/speakers/ZebMRl5Z7dhrPKRD/b55dcfd0-455d-1...  ...      none\n",
              "3  wavs/speakers/ppzZqYxGkESMdA5Az/61c54a20-4476-...  ...  washroom\n",
              "4  wavs/speakers/zaEBPeMY4NUbDnZy/8ef57ec0-44df-1...  ...      none\n",
              "\n",
              "[5 rows x 5 columns]"
            ]
          },
          "metadata": {},
          "execution_count": 45
        }
      ]
    },
    {
      "cell_type": "code",
      "metadata": {
        "id": "VISAH7xg-bep",
        "colab": {
          "base_uri": "https://localhost:8080/",
          "height": 203
        },
        "outputId": "835042bb-d45c-454c-d5a9-78705b4153f4"
      },
      "source": [
        "valid=pd.read_csv(\"/content/valid_data.csv\")\n",
        "valid.head()"
      ],
      "execution_count": 46,
      "outputs": [
        {
          "output_type": "execute_result",
          "data": {
            "text/html": [
              "<div>\n",
              "<style scoped>\n",
              "    .dataframe tbody tr th:only-of-type {\n",
              "        vertical-align: middle;\n",
              "    }\n",
              "\n",
              "    .dataframe tbody tr th {\n",
              "        vertical-align: top;\n",
              "    }\n",
              "\n",
              "    .dataframe thead th {\n",
              "        text-align: right;\n",
              "    }\n",
              "</style>\n",
              "<table border=\"1\" class=\"dataframe\">\n",
              "  <thead>\n",
              "    <tr style=\"text-align: right;\">\n",
              "      <th></th>\n",
              "      <th>path</th>\n",
              "      <th>transcription</th>\n",
              "      <th>action</th>\n",
              "      <th>object</th>\n",
              "      <th>location</th>\n",
              "    </tr>\n",
              "  </thead>\n",
              "  <tbody>\n",
              "    <tr>\n",
              "      <th>0</th>\n",
              "      <td>wavs/speakers/7NqqnAOPVVSKnxyv/8b863c90-4627-1...</td>\n",
              "      <td>Turn on the lights</td>\n",
              "      <td>activate</td>\n",
              "      <td>lights</td>\n",
              "      <td>none</td>\n",
              "    </tr>\n",
              "    <tr>\n",
              "      <th>1</th>\n",
              "      <td>wavs/speakers/7NqqnAOPVVSKnxyv/8d8f7a10-4627-1...</td>\n",
              "      <td>Turn off the lights</td>\n",
              "      <td>deactivate</td>\n",
              "      <td>lights</td>\n",
              "      <td>none</td>\n",
              "    </tr>\n",
              "    <tr>\n",
              "      <th>2</th>\n",
              "      <td>wavs/speakers/7NqqnAOPVVSKnxyv/8f7773f0-4627-1...</td>\n",
              "      <td>Change language</td>\n",
              "      <td>change language</td>\n",
              "      <td>none</td>\n",
              "      <td>none</td>\n",
              "    </tr>\n",
              "    <tr>\n",
              "      <th>3</th>\n",
              "      <td>wavs/speakers/7NqqnAOPVVSKnxyv/916cb440-4627-1...</td>\n",
              "      <td>Pause the music</td>\n",
              "      <td>deactivate</td>\n",
              "      <td>music</td>\n",
              "      <td>none</td>\n",
              "    </tr>\n",
              "    <tr>\n",
              "      <th>4</th>\n",
              "      <td>wavs/speakers/7NqqnAOPVVSKnxyv/934321f0-4627-1...</td>\n",
              "      <td>Resume</td>\n",
              "      <td>activate</td>\n",
              "      <td>music</td>\n",
              "      <td>none</td>\n",
              "    </tr>\n",
              "  </tbody>\n",
              "</table>\n",
              "</div>"
            ],
            "text/plain": [
              "                                                path  ... location\n",
              "0  wavs/speakers/7NqqnAOPVVSKnxyv/8b863c90-4627-1...  ...     none\n",
              "1  wavs/speakers/7NqqnAOPVVSKnxyv/8d8f7a10-4627-1...  ...     none\n",
              "2  wavs/speakers/7NqqnAOPVVSKnxyv/8f7773f0-4627-1...  ...     none\n",
              "3  wavs/speakers/7NqqnAOPVVSKnxyv/916cb440-4627-1...  ...     none\n",
              "4  wavs/speakers/7NqqnAOPVVSKnxyv/934321f0-4627-1...  ...     none\n",
              "\n",
              "[5 rows x 5 columns]"
            ]
          },
          "metadata": {},
          "execution_count": 46
        }
      ]
    },
    {
      "cell_type": "code",
      "metadata": {
        "id": "NJLp36h0-iW9",
        "colab": {
          "base_uri": "https://localhost:8080/",
          "height": 35
        },
        "outputId": "c620b82a-515b-4784-e45e-aa53c6badda0"
      },
      "source": [
        "train['path'][0]"
      ],
      "execution_count": 47,
      "outputs": [
        {
          "output_type": "execute_result",
          "data": {
            "application/vnd.google.colaboratory.intrinsic+json": {
              "type": "string"
            },
            "text/plain": [
              "'wavs/speakers/xRQE5VD7rRHVdyvM/7372ca00-45c4-11e9-8ec0-7bf21d1cfe30.wav'"
            ]
          },
          "metadata": {},
          "execution_count": 47
        }
      ]
    },
    {
      "cell_type": "code",
      "metadata": {
        "id": "A-6Lu7G8B-0p",
        "colab": {
          "base_uri": "https://localhost:8080/",
          "height": 35
        },
        "outputId": "5df667cc-6dd4-4824-de68-dfbff6e41b38"
      },
      "source": [
        "train['path'][1]"
      ],
      "execution_count": 48,
      "outputs": [
        {
          "output_type": "execute_result",
          "data": {
            "application/vnd.google.colaboratory.intrinsic+json": {
              "type": "string"
            },
            "text/plain": [
              "'wavs/speakers/R3mexpM2YAtdPbL7/dae28110-44fe-11e9-a1ea-79ca03012c0e.wav'"
            ]
          },
          "metadata": {},
          "execution_count": 48
        }
      ]
    },
    {
      "cell_type": "code",
      "metadata": {
        "id": "yLwE5heUCy1D",
        "colab": {
          "base_uri": "https://localhost:8080/"
        },
        "outputId": "0710159a-4599-4d76-dcdc-07bdfdcbbd5c"
      },
      "source": [
        "train['path']"
      ],
      "execution_count": 49,
      "outputs": [
        {
          "output_type": "execute_result",
          "data": {
            "text/plain": [
              "0        wavs/speakers/xRQE5VD7rRHVdyvM/7372ca00-45c4-1...\n",
              "1        wavs/speakers/R3mexpM2YAtdPbL7/dae28110-44fe-1...\n",
              "2        wavs/speakers/ZebMRl5Z7dhrPKRD/b55dcfd0-455d-1...\n",
              "3        wavs/speakers/ppzZqYxGkESMdA5Az/61c54a20-4476-...\n",
              "4        wavs/speakers/zaEBPeMY4NUbDnZy/8ef57ec0-44df-1...\n",
              "                               ...                        \n",
              "11561    wavs/speakers/BvyakyrDmQfWEABb/a59b2910-4609-1...\n",
              "11562    wavs/speakers/W4XOzzNEbrtZz4dW/aa186590-44d1-1...\n",
              "11563    wavs/speakers/xwpvGaaWl5c3G5N3/6e189850-45ba-1...\n",
              "11564    wavs/speakers/zaEBPeMY4NUbDnZy/3fd3a020-44d4-1...\n",
              "11565    wavs/speakers/zaEBPeMY4NUbDnZy/3c3d7250-44da-1...\n",
              "Name: path, Length: 11566, dtype: object"
            ]
          },
          "metadata": {},
          "execution_count": 49
        }
      ]
    },
    {
      "cell_type": "markdown",
      "metadata": {
        "id": "KeWYx4xoawJq"
      },
      "source": [
        "**CHECKING FOR NULL VALUES**"
      ]
    },
    {
      "cell_type": "code",
      "metadata": {
        "id": "mfzVXW6gPdOK",
        "colab": {
          "base_uri": "https://localhost:8080/"
        },
        "outputId": "eb6fb024-dc32-4dea-dd82-44f72692da07"
      },
      "source": [
        "train.isnull().any()"
      ],
      "execution_count": 50,
      "outputs": [
        {
          "output_type": "execute_result",
          "data": {
            "text/plain": [
              "path             False\n",
              "transcription    False\n",
              "action           False\n",
              "object           False\n",
              "location         False\n",
              "dtype: bool"
            ]
          },
          "metadata": {},
          "execution_count": 50
        }
      ]
    },
    {
      "cell_type": "code",
      "metadata": {
        "id": "7GTIGrQWd73V",
        "colab": {
          "base_uri": "https://localhost:8080/"
        },
        "outputId": "cd9a6f08-70f9-4e4b-b9fd-080031ab56a8"
      },
      "source": [
        "train['action'].unique()"
      ],
      "execution_count": 51,
      "outputs": [
        {
          "output_type": "execute_result",
          "data": {
            "text/plain": [
              "array(['activate', 'increase', 'change language', 'decrease',\n",
              "       'deactivate', 'bring'], dtype=object)"
            ]
          },
          "metadata": {},
          "execution_count": 51
        }
      ]
    },
    {
      "cell_type": "code",
      "metadata": {
        "colab": {
          "base_uri": "https://localhost:8080/"
        },
        "id": "3lYuRZsHFSyR",
        "outputId": "362e7d99-1724-4b27-e819-7b9445a740d8"
      },
      "source": [
        "action_list=['activate','deactivate','increase','decrease','change language','bring']\n",
        "action_list"
      ],
      "execution_count": 52,
      "outputs": [
        {
          "output_type": "execute_result",
          "data": {
            "text/plain": [
              "['activate', 'deactivate', 'increase', 'decrease', 'change language', 'bring']"
            ]
          },
          "metadata": {},
          "execution_count": 52
        }
      ]
    },
    {
      "cell_type": "markdown",
      "metadata": {
        "id": "6dAcDmN9a2eU"
      },
      "source": [
        "**UNIQUE VALUES IN THE DATASET**"
      ]
    },
    {
      "cell_type": "code",
      "metadata": {
        "colab": {
          "base_uri": "https://localhost:8080/"
        },
        "id": "T6UtnQUqF_RF",
        "outputId": "1f926221-fa23-4cdc-b772-e24a91da2a80"
      },
      "source": [
        "train['object'].nunique()"
      ],
      "execution_count": 53,
      "outputs": [
        {
          "output_type": "execute_result",
          "data": {
            "text/plain": [
              "14"
            ]
          },
          "metadata": {},
          "execution_count": 53
        }
      ]
    },
    {
      "cell_type": "code",
      "metadata": {
        "colab": {
          "base_uri": "https://localhost:8080/"
        },
        "id": "5476zI2jGE9R",
        "outputId": "faedc0c4-54e1-47dc-b19e-d0e50b340cdd"
      },
      "source": [
        "train['object'].unique()"
      ],
      "execution_count": 54,
      "outputs": [
        {
          "output_type": "execute_result",
          "data": {
            "text/plain": [
              "array(['lights', 'heat', 'Chinese', 'none', 'volume', 'English', 'lamp',\n",
              "       'shoes', 'newspaper', 'socks', 'music', 'Korean', 'juice',\n",
              "       'German'], dtype=object)"
            ]
          },
          "metadata": {},
          "execution_count": 54
        }
      ]
    },
    {
      "cell_type": "code",
      "metadata": {
        "colab": {
          "base_uri": "https://localhost:8080/"
        },
        "id": "xm_9czeKGdlT",
        "outputId": "43b213b5-45f4-4df4-8580-b12d3f9ed9a4"
      },
      "source": [
        "object_list=['lights', 'heat', 'Chinese', 'none', 'volume', 'English', 'lamp',\n",
        "       'shoes', 'newspaper', 'socks', 'music', 'Korean', 'juice',\n",
        "       'German']\n",
        "object_list"
      ],
      "execution_count": 55,
      "outputs": [
        {
          "output_type": "execute_result",
          "data": {
            "text/plain": [
              "['lights',\n",
              " 'heat',\n",
              " 'Chinese',\n",
              " 'none',\n",
              " 'volume',\n",
              " 'English',\n",
              " 'lamp',\n",
              " 'shoes',\n",
              " 'newspaper',\n",
              " 'socks',\n",
              " 'music',\n",
              " 'Korean',\n",
              " 'juice',\n",
              " 'German']"
            ]
          },
          "metadata": {},
          "execution_count": 55
        }
      ]
    },
    {
      "cell_type": "code",
      "metadata": {
        "colab": {
          "base_uri": "https://localhost:8080/"
        },
        "id": "Wc2vEd1CGpm0",
        "outputId": "7c416d03-2b5b-458e-ccae-10587b0760ec"
      },
      "source": [
        "train['location'].unique()"
      ],
      "execution_count": 56,
      "outputs": [
        {
          "output_type": "execute_result",
          "data": {
            "text/plain": [
              "array(['kitchen', 'none', 'washroom', 'bedroom'], dtype=object)"
            ]
          },
          "metadata": {},
          "execution_count": 56
        }
      ]
    },
    {
      "cell_type": "code",
      "metadata": {
        "colab": {
          "base_uri": "https://localhost:8080/"
        },
        "id": "JyQVjRz7Gvmj",
        "outputId": "fc170941-819a-4405-ff70-5a6813f67a57"
      },
      "source": [
        "location_list=['kitchen', 'none', 'washroom', 'bedroom']\n",
        "location_list"
      ],
      "execution_count": 57,
      "outputs": [
        {
          "output_type": "execute_result",
          "data": {
            "text/plain": [
              "['kitchen', 'none', 'washroom', 'bedroom']"
            ]
          },
          "metadata": {},
          "execution_count": 57
        }
      ]
    },
    {
      "cell_type": "markdown",
      "metadata": {
        "id": "cMubVBqAbCaC"
      },
      "source": [
        "**DATA CLEANING**"
      ]
    },
    {
      "cell_type": "code",
      "metadata": {
        "id": "LuYPMIq1IucW"
      },
      "source": [
        "import re\n",
        "import string\n",
        "from nltk.corpus import stopwords\n",
        "\n",
        "def clean_text(text):\n",
        "    \"\"\"Process text function.\n",
        "    Input:\n",
        "        tweet: a string containing a tweet\n",
        "    Output:\n",
        "        tweets_clean: a list of words containing the processed tweet\n",
        "    \"\"\"\n",
        "    lemmatizer = WordNetLemmatizer()\n",
        "    stopwords_english = stopwords.words('english')\n",
        "    text= re.sub('\\[[^]]*\\]', '', text)\n",
        "    # remove stock market tickers like $GE\n",
        "    text = re.sub(r'\\$\\w*', '', text)\n",
        "    #removal of html tags\n",
        "    review =re.sub(r'<.*?>',' ',text) \n",
        "    # remove old style retweet text \"RT\"\n",
        "    text = re.sub(r'^RT[\\s]+', '', text)\n",
        "    # remove hyperlinks\n",
        "    text = re.sub(r'https?:\\/\\/.*[\\r\\n]*', '', text)\n",
        "    # remove hashtags\n",
        "    # only removing the hash # sign from the word\n",
        "    text = re.sub(r'#', '', text)\n",
        "    text = re.sub(\"[\"\n",
        "                           u\"\\U0001F600-\\U0001F64F\"  # removal of emoticons\n",
        "                           u\"\\U0001F300-\\U0001F5FF\"  # symbols & pictographs\n",
        "                           u\"\\U0001F680-\\U0001F6FF\"  # transport & map symbols\n",
        "                           u\"\\U0001F1E0-\\U0001F1FF\"  # flags (iOS)\n",
        "                           u\"\\U00002702-\\U000027B0\"\n",
        "                           u\"\\U000024C2-\\U0001F251\"\n",
        "                           \"]+\",' ',text)\n",
        "    text = re.sub('[^a-zA-Z]',' ',text) \n",
        "    text = text.lower()\n",
        "    text_tokens =word_tokenize(text)\n",
        "\n",
        "    text_clean = []\n",
        "    for word in  text_tokens:\n",
        "        if (                                       \n",
        "            word not in string.punctuation):  # remove punctuation\n",
        "            lem_word =lemmatizer.lemmatize(word)  # lemmitiging word\n",
        "            text_clean.append(lem_word)\n",
        "    text_mod=[i for i in text_clean if len(i)>1]\n",
        "    text_clean=' '.join(text_mod)\n",
        "    return  text_clean"
      ],
      "execution_count": 59,
      "outputs": []
    },
    {
      "cell_type": "code",
      "metadata": {
        "colab": {
          "base_uri": "https://localhost:8080/"
        },
        "id": "L2kiR2ymcg7T",
        "outputId": "0a007554-2793-421f-a0bd-e072413caca1"
      },
      "source": [
        "import nltk\n",
        "nltk.download('stopwords')"
      ],
      "execution_count": 60,
      "outputs": [
        {
          "output_type": "stream",
          "name": "stdout",
          "text": [
            "[nltk_data] Downloading package stopwords to /root/nltk_data...\n",
            "[nltk_data]   Package stopwords is already up-to-date!\n"
          ]
        },
        {
          "output_type": "execute_result",
          "data": {
            "text/plain": [
              "True"
            ]
          },
          "metadata": {},
          "execution_count": 60
        }
      ]
    },
    {
      "cell_type": "code",
      "metadata": {
        "colab": {
          "base_uri": "https://localhost:8080/"
        },
        "id": "LbACWaopcnmT",
        "outputId": "68c8a214-50a5-436f-8dc5-2d4d497ab0d8"
      },
      "source": [
        "nltk.download('punkt')\n",
        "nltk.download('wordnet')"
      ],
      "execution_count": 61,
      "outputs": [
        {
          "output_type": "stream",
          "name": "stdout",
          "text": [
            "[nltk_data] Downloading package punkt to /root/nltk_data...\n",
            "[nltk_data]   Package punkt is already up-to-date!\n",
            "[nltk_data] Downloading package wordnet to /root/nltk_data...\n",
            "[nltk_data]   Package wordnet is already up-to-date!\n"
          ]
        },
        {
          "output_type": "execute_result",
          "data": {
            "text/plain": [
              "True"
            ]
          },
          "metadata": {},
          "execution_count": 61
        }
      ]
    },
    {
      "cell_type": "code",
      "metadata": {
        "id": "09t7OsETcKdJ"
      },
      "source": [
        "train['clean_text']=train['transcription'].apply(lambda x: clean_text(x))"
      ],
      "execution_count": 62,
      "outputs": []
    },
    {
      "cell_type": "code",
      "metadata": {
        "colab": {
          "base_uri": "https://localhost:8080/"
        },
        "id": "pWdzLyDycyCR",
        "outputId": "0779a1ee-0848-4a31-f960-26a907aa1852"
      },
      "source": [
        "train['clean_text']"
      ],
      "execution_count": 63,
      "outputs": [
        {
          "output_type": "execute_result",
          "data": {
            "text/plain": [
              "0                         turn on the kitchen light\n",
              "1                           turn up the temperature\n",
              "2        ok now switch the main language to chinese\n",
              "3                turn down the bathroom temperature\n",
              "4                               change the language\n",
              "                            ...                    \n",
              "11561                               kitchen heat up\n",
              "11562                       turn the temperature up\n",
              "11563                                    bring shoe\n",
              "11564                                   volume mute\n",
              "11565                    turn off the kitchen light\n",
              "Name: clean_text, Length: 11566, dtype: object"
            ]
          },
          "metadata": {},
          "execution_count": 63
        }
      ]
    },
    {
      "cell_type": "code",
      "metadata": {
        "colab": {
          "base_uri": "https://localhost:8080/"
        },
        "id": "enST9qjcV_bp",
        "outputId": "86b47e54-bfa5-496d-aac5-7f19fe41492e"
      },
      "source": [
        "valid['clean_text']=valid['transcription'].apply(lambda x:clean_text(x))\n",
        "valid['clean_text']"
      ],
      "execution_count": 64,
      "outputs": [
        {
          "output_type": "execute_result",
          "data": {
            "text/plain": [
              "0          turn on the light\n",
              "1         turn off the light\n",
              "2            change language\n",
              "3            pause the music\n",
              "4                     resume\n",
              "                ...         \n",
              "3113                light on\n",
              "3114    switch off the light\n",
              "3115      turn the light off\n",
              "3116               light off\n",
              "3117               volume up\n",
              "Name: clean_text, Length: 3118, dtype: object"
            ]
          },
          "metadata": {},
          "execution_count": 64
        }
      ]
    },
    {
      "cell_type": "code",
      "metadata": {
        "colab": {
          "base_uri": "https://localhost:8080/",
          "height": 35
        },
        "id": "-tK8DSPEc1Fk",
        "outputId": "5593c4d1-1350-4ef4-a30d-6bce71d00c2e"
      },
      "source": [
        "train['clean_text'][7]"
      ],
      "execution_count": 65,
      "outputs": [
        {
          "output_type": "execute_result",
          "data": {
            "application/vnd.google.colaboratory.intrinsic+json": {
              "type": "string"
            },
            "text/plain": [
              "'it too loud turn it down'"
            ]
          },
          "metadata": {},
          "execution_count": 65
        }
      ]
    },
    {
      "cell_type": "code",
      "metadata": {
        "colab": {
          "base_uri": "https://localhost:8080/"
        },
        "id": "kp4WGbfqWb3E",
        "outputId": "14045895-9543-4943-9905-ec0652a373df"
      },
      "source": [
        "valid.shape"
      ],
      "execution_count": 66,
      "outputs": [
        {
          "output_type": "execute_result",
          "data": {
            "text/plain": [
              "(3118, 6)"
            ]
          },
          "metadata": {},
          "execution_count": 66
        }
      ]
    },
    {
      "cell_type": "code",
      "metadata": {
        "colab": {
          "base_uri": "https://localhost:8080/"
        },
        "id": "0rzc4arFIJQH",
        "outputId": "19e1e99b-f6b7-4934-a557-809b66df8d1b"
      },
      "source": [
        "train.shape"
      ],
      "execution_count": 67,
      "outputs": [
        {
          "output_type": "execute_result",
          "data": {
            "text/plain": [
              "(11566, 6)"
            ]
          },
          "metadata": {},
          "execution_count": 67
        }
      ]
    },
    {
      "cell_type": "code",
      "metadata": {
        "colab": {
          "base_uri": "https://localhost:8080/"
        },
        "id": "c0TxOARLOdxm",
        "outputId": "3a86dbb2-67c7-4ae2-8358-b8ff8f3ebedf"
      },
      "source": [
        "train.drop(['transcription','path'],axis=1,inplace=True)\n",
        "train.shape"
      ],
      "execution_count": 68,
      "outputs": [
        {
          "output_type": "execute_result",
          "data": {
            "text/plain": [
              "(11566, 4)"
            ]
          },
          "metadata": {},
          "execution_count": 68
        }
      ]
    },
    {
      "cell_type": "code",
      "metadata": {
        "colab": {
          "base_uri": "https://localhost:8080/"
        },
        "id": "SoLfg0THW8gc",
        "outputId": "76121584-3057-4625-900a-b210a0e336ed"
      },
      "source": [
        "valid.drop(['transcription','path'],axis=1,inplace=True)\n",
        "valid.shape"
      ],
      "execution_count": 69,
      "outputs": [
        {
          "output_type": "execute_result",
          "data": {
            "text/plain": [
              "(3118, 4)"
            ]
          },
          "metadata": {},
          "execution_count": 69
        }
      ]
    },
    {
      "cell_type": "code",
      "metadata": {
        "colab": {
          "base_uri": "https://localhost:8080/",
          "height": 203
        },
        "id": "t7wKPpKMjZKD",
        "outputId": "630aa91c-7e3a-4262-9546-23868405ca42"
      },
      "source": [
        "train.head()"
      ],
      "execution_count": 70,
      "outputs": [
        {
          "output_type": "execute_result",
          "data": {
            "text/html": [
              "<div>\n",
              "<style scoped>\n",
              "    .dataframe tbody tr th:only-of-type {\n",
              "        vertical-align: middle;\n",
              "    }\n",
              "\n",
              "    .dataframe tbody tr th {\n",
              "        vertical-align: top;\n",
              "    }\n",
              "\n",
              "    .dataframe thead th {\n",
              "        text-align: right;\n",
              "    }\n",
              "</style>\n",
              "<table border=\"1\" class=\"dataframe\">\n",
              "  <thead>\n",
              "    <tr style=\"text-align: right;\">\n",
              "      <th></th>\n",
              "      <th>action</th>\n",
              "      <th>object</th>\n",
              "      <th>location</th>\n",
              "      <th>clean_text</th>\n",
              "    </tr>\n",
              "  </thead>\n",
              "  <tbody>\n",
              "    <tr>\n",
              "      <th>0</th>\n",
              "      <td>activate</td>\n",
              "      <td>lights</td>\n",
              "      <td>kitchen</td>\n",
              "      <td>turn on the kitchen light</td>\n",
              "    </tr>\n",
              "    <tr>\n",
              "      <th>1</th>\n",
              "      <td>increase</td>\n",
              "      <td>heat</td>\n",
              "      <td>none</td>\n",
              "      <td>turn up the temperature</td>\n",
              "    </tr>\n",
              "    <tr>\n",
              "      <th>2</th>\n",
              "      <td>change language</td>\n",
              "      <td>Chinese</td>\n",
              "      <td>none</td>\n",
              "      <td>ok now switch the main language to chinese</td>\n",
              "    </tr>\n",
              "    <tr>\n",
              "      <th>3</th>\n",
              "      <td>decrease</td>\n",
              "      <td>heat</td>\n",
              "      <td>washroom</td>\n",
              "      <td>turn down the bathroom temperature</td>\n",
              "    </tr>\n",
              "    <tr>\n",
              "      <th>4</th>\n",
              "      <td>change language</td>\n",
              "      <td>none</td>\n",
              "      <td>none</td>\n",
              "      <td>change the language</td>\n",
              "    </tr>\n",
              "  </tbody>\n",
              "</table>\n",
              "</div>"
            ],
            "text/plain": [
              "            action  ...                                  clean_text\n",
              "0         activate  ...                   turn on the kitchen light\n",
              "1         increase  ...                     turn up the temperature\n",
              "2  change language  ...  ok now switch the main language to chinese\n",
              "3         decrease  ...          turn down the bathroom temperature\n",
              "4  change language  ...                         change the language\n",
              "\n",
              "[5 rows x 4 columns]"
            ]
          },
          "metadata": {},
          "execution_count": 70
        }
      ]
    },
    {
      "cell_type": "code",
      "metadata": {
        "colab": {
          "base_uri": "https://localhost:8080/",
          "height": 203
        },
        "id": "OQytPo4SJjPC",
        "outputId": "afa773e5-e1b4-4f4f-8e03-ea645b5d2a21"
      },
      "source": [
        "train['labels']=train['action']+' '+train['object']+' '+train['location']\n",
        "train.head()"
      ],
      "execution_count": 71,
      "outputs": [
        {
          "output_type": "execute_result",
          "data": {
            "text/html": [
              "<div>\n",
              "<style scoped>\n",
              "    .dataframe tbody tr th:only-of-type {\n",
              "        vertical-align: middle;\n",
              "    }\n",
              "\n",
              "    .dataframe tbody tr th {\n",
              "        vertical-align: top;\n",
              "    }\n",
              "\n",
              "    .dataframe thead th {\n",
              "        text-align: right;\n",
              "    }\n",
              "</style>\n",
              "<table border=\"1\" class=\"dataframe\">\n",
              "  <thead>\n",
              "    <tr style=\"text-align: right;\">\n",
              "      <th></th>\n",
              "      <th>action</th>\n",
              "      <th>object</th>\n",
              "      <th>location</th>\n",
              "      <th>clean_text</th>\n",
              "      <th>labels</th>\n",
              "    </tr>\n",
              "  </thead>\n",
              "  <tbody>\n",
              "    <tr>\n",
              "      <th>0</th>\n",
              "      <td>activate</td>\n",
              "      <td>lights</td>\n",
              "      <td>kitchen</td>\n",
              "      <td>turn on the kitchen light</td>\n",
              "      <td>activate lights kitchen</td>\n",
              "    </tr>\n",
              "    <tr>\n",
              "      <th>1</th>\n",
              "      <td>increase</td>\n",
              "      <td>heat</td>\n",
              "      <td>none</td>\n",
              "      <td>turn up the temperature</td>\n",
              "      <td>increase heat none</td>\n",
              "    </tr>\n",
              "    <tr>\n",
              "      <th>2</th>\n",
              "      <td>change language</td>\n",
              "      <td>Chinese</td>\n",
              "      <td>none</td>\n",
              "      <td>ok now switch the main language to chinese</td>\n",
              "      <td>change language Chinese none</td>\n",
              "    </tr>\n",
              "    <tr>\n",
              "      <th>3</th>\n",
              "      <td>decrease</td>\n",
              "      <td>heat</td>\n",
              "      <td>washroom</td>\n",
              "      <td>turn down the bathroom temperature</td>\n",
              "      <td>decrease heat washroom</td>\n",
              "    </tr>\n",
              "    <tr>\n",
              "      <th>4</th>\n",
              "      <td>change language</td>\n",
              "      <td>none</td>\n",
              "      <td>none</td>\n",
              "      <td>change the language</td>\n",
              "      <td>change language none none</td>\n",
              "    </tr>\n",
              "  </tbody>\n",
              "</table>\n",
              "</div>"
            ],
            "text/plain": [
              "            action  ...                        labels\n",
              "0         activate  ...       activate lights kitchen\n",
              "1         increase  ...            increase heat none\n",
              "2  change language  ...  change language Chinese none\n",
              "3         decrease  ...        decrease heat washroom\n",
              "4  change language  ...     change language none none\n",
              "\n",
              "[5 rows x 5 columns]"
            ]
          },
          "metadata": {},
          "execution_count": 71
        }
      ]
    },
    {
      "cell_type": "code",
      "metadata": {
        "colab": {
          "base_uri": "https://localhost:8080/",
          "height": 203
        },
        "id": "s_01FxIjjfDV",
        "outputId": "6197359f-3bda-4096-af7d-6d7f447a19d3"
      },
      "source": [
        "valid.head()"
      ],
      "execution_count": 72,
      "outputs": [
        {
          "output_type": "execute_result",
          "data": {
            "text/html": [
              "<div>\n",
              "<style scoped>\n",
              "    .dataframe tbody tr th:only-of-type {\n",
              "        vertical-align: middle;\n",
              "    }\n",
              "\n",
              "    .dataframe tbody tr th {\n",
              "        vertical-align: top;\n",
              "    }\n",
              "\n",
              "    .dataframe thead th {\n",
              "        text-align: right;\n",
              "    }\n",
              "</style>\n",
              "<table border=\"1\" class=\"dataframe\">\n",
              "  <thead>\n",
              "    <tr style=\"text-align: right;\">\n",
              "      <th></th>\n",
              "      <th>action</th>\n",
              "      <th>object</th>\n",
              "      <th>location</th>\n",
              "      <th>clean_text</th>\n",
              "    </tr>\n",
              "  </thead>\n",
              "  <tbody>\n",
              "    <tr>\n",
              "      <th>0</th>\n",
              "      <td>activate</td>\n",
              "      <td>lights</td>\n",
              "      <td>none</td>\n",
              "      <td>turn on the light</td>\n",
              "    </tr>\n",
              "    <tr>\n",
              "      <th>1</th>\n",
              "      <td>deactivate</td>\n",
              "      <td>lights</td>\n",
              "      <td>none</td>\n",
              "      <td>turn off the light</td>\n",
              "    </tr>\n",
              "    <tr>\n",
              "      <th>2</th>\n",
              "      <td>change language</td>\n",
              "      <td>none</td>\n",
              "      <td>none</td>\n",
              "      <td>change language</td>\n",
              "    </tr>\n",
              "    <tr>\n",
              "      <th>3</th>\n",
              "      <td>deactivate</td>\n",
              "      <td>music</td>\n",
              "      <td>none</td>\n",
              "      <td>pause the music</td>\n",
              "    </tr>\n",
              "    <tr>\n",
              "      <th>4</th>\n",
              "      <td>activate</td>\n",
              "      <td>music</td>\n",
              "      <td>none</td>\n",
              "      <td>resume</td>\n",
              "    </tr>\n",
              "  </tbody>\n",
              "</table>\n",
              "</div>"
            ],
            "text/plain": [
              "            action  object location          clean_text\n",
              "0         activate  lights     none   turn on the light\n",
              "1       deactivate  lights     none  turn off the light\n",
              "2  change language    none     none     change language\n",
              "3       deactivate   music     none     pause the music\n",
              "4         activate   music     none              resume"
            ]
          },
          "metadata": {},
          "execution_count": 72
        }
      ]
    },
    {
      "cell_type": "code",
      "metadata": {
        "colab": {
          "base_uri": "https://localhost:8080/",
          "height": 203
        },
        "id": "hoVPHDy-LvlT",
        "outputId": "10bb9c83-6589-4ebf-97d1-60c79b3f338d"
      },
      "source": [
        "valid['labels']=valid['action']+' '+valid['object']+' '+valid['location']\n",
        "valid.head()"
      ],
      "execution_count": 73,
      "outputs": [
        {
          "output_type": "execute_result",
          "data": {
            "text/html": [
              "<div>\n",
              "<style scoped>\n",
              "    .dataframe tbody tr th:only-of-type {\n",
              "        vertical-align: middle;\n",
              "    }\n",
              "\n",
              "    .dataframe tbody tr th {\n",
              "        vertical-align: top;\n",
              "    }\n",
              "\n",
              "    .dataframe thead th {\n",
              "        text-align: right;\n",
              "    }\n",
              "</style>\n",
              "<table border=\"1\" class=\"dataframe\">\n",
              "  <thead>\n",
              "    <tr style=\"text-align: right;\">\n",
              "      <th></th>\n",
              "      <th>action</th>\n",
              "      <th>object</th>\n",
              "      <th>location</th>\n",
              "      <th>clean_text</th>\n",
              "      <th>labels</th>\n",
              "    </tr>\n",
              "  </thead>\n",
              "  <tbody>\n",
              "    <tr>\n",
              "      <th>0</th>\n",
              "      <td>activate</td>\n",
              "      <td>lights</td>\n",
              "      <td>none</td>\n",
              "      <td>turn on the light</td>\n",
              "      <td>activate lights none</td>\n",
              "    </tr>\n",
              "    <tr>\n",
              "      <th>1</th>\n",
              "      <td>deactivate</td>\n",
              "      <td>lights</td>\n",
              "      <td>none</td>\n",
              "      <td>turn off the light</td>\n",
              "      <td>deactivate lights none</td>\n",
              "    </tr>\n",
              "    <tr>\n",
              "      <th>2</th>\n",
              "      <td>change language</td>\n",
              "      <td>none</td>\n",
              "      <td>none</td>\n",
              "      <td>change language</td>\n",
              "      <td>change language none none</td>\n",
              "    </tr>\n",
              "    <tr>\n",
              "      <th>3</th>\n",
              "      <td>deactivate</td>\n",
              "      <td>music</td>\n",
              "      <td>none</td>\n",
              "      <td>pause the music</td>\n",
              "      <td>deactivate music none</td>\n",
              "    </tr>\n",
              "    <tr>\n",
              "      <th>4</th>\n",
              "      <td>activate</td>\n",
              "      <td>music</td>\n",
              "      <td>none</td>\n",
              "      <td>resume</td>\n",
              "      <td>activate music none</td>\n",
              "    </tr>\n",
              "  </tbody>\n",
              "</table>\n",
              "</div>"
            ],
            "text/plain": [
              "            action  object  ...          clean_text                     labels\n",
              "0         activate  lights  ...   turn on the light       activate lights none\n",
              "1       deactivate  lights  ...  turn off the light     deactivate lights none\n",
              "2  change language    none  ...     change language  change language none none\n",
              "3       deactivate   music  ...     pause the music      deactivate music none\n",
              "4         activate   music  ...              resume        activate music none\n",
              "\n",
              "[5 rows x 5 columns]"
            ]
          },
          "metadata": {},
          "execution_count": 73
        }
      ]
    },
    {
      "cell_type": "code",
      "metadata": {
        "colab": {
          "base_uri": "https://localhost:8080/",
          "height": 203
        },
        "id": "MG5oCOl5L7bD",
        "outputId": "8275e757-22d7-4590-b3ba-e283516b6c2c"
      },
      "source": [
        "train.drop(['action','object','location'],axis=1,inplace=True)\n",
        "train.head()"
      ],
      "execution_count": 74,
      "outputs": [
        {
          "output_type": "execute_result",
          "data": {
            "text/html": [
              "<div>\n",
              "<style scoped>\n",
              "    .dataframe tbody tr th:only-of-type {\n",
              "        vertical-align: middle;\n",
              "    }\n",
              "\n",
              "    .dataframe tbody tr th {\n",
              "        vertical-align: top;\n",
              "    }\n",
              "\n",
              "    .dataframe thead th {\n",
              "        text-align: right;\n",
              "    }\n",
              "</style>\n",
              "<table border=\"1\" class=\"dataframe\">\n",
              "  <thead>\n",
              "    <tr style=\"text-align: right;\">\n",
              "      <th></th>\n",
              "      <th>clean_text</th>\n",
              "      <th>labels</th>\n",
              "    </tr>\n",
              "  </thead>\n",
              "  <tbody>\n",
              "    <tr>\n",
              "      <th>0</th>\n",
              "      <td>turn on the kitchen light</td>\n",
              "      <td>activate lights kitchen</td>\n",
              "    </tr>\n",
              "    <tr>\n",
              "      <th>1</th>\n",
              "      <td>turn up the temperature</td>\n",
              "      <td>increase heat none</td>\n",
              "    </tr>\n",
              "    <tr>\n",
              "      <th>2</th>\n",
              "      <td>ok now switch the main language to chinese</td>\n",
              "      <td>change language Chinese none</td>\n",
              "    </tr>\n",
              "    <tr>\n",
              "      <th>3</th>\n",
              "      <td>turn down the bathroom temperature</td>\n",
              "      <td>decrease heat washroom</td>\n",
              "    </tr>\n",
              "    <tr>\n",
              "      <th>4</th>\n",
              "      <td>change the language</td>\n",
              "      <td>change language none none</td>\n",
              "    </tr>\n",
              "  </tbody>\n",
              "</table>\n",
              "</div>"
            ],
            "text/plain": [
              "                                   clean_text                        labels\n",
              "0                   turn on the kitchen light       activate lights kitchen\n",
              "1                     turn up the temperature            increase heat none\n",
              "2  ok now switch the main language to chinese  change language Chinese none\n",
              "3          turn down the bathroom temperature        decrease heat washroom\n",
              "4                         change the language     change language none none"
            ]
          },
          "metadata": {},
          "execution_count": 74
        }
      ]
    },
    {
      "cell_type": "code",
      "metadata": {
        "colab": {
          "base_uri": "https://localhost:8080/",
          "height": 203
        },
        "id": "NQpTXNgCMF5J",
        "outputId": "31e254f9-9e48-47bd-85ca-96dc759f9996"
      },
      "source": [
        "valid.drop(['action','object','location'],axis=1,inplace=True)\n",
        "valid.head()"
      ],
      "execution_count": 75,
      "outputs": [
        {
          "output_type": "execute_result",
          "data": {
            "text/html": [
              "<div>\n",
              "<style scoped>\n",
              "    .dataframe tbody tr th:only-of-type {\n",
              "        vertical-align: middle;\n",
              "    }\n",
              "\n",
              "    .dataframe tbody tr th {\n",
              "        vertical-align: top;\n",
              "    }\n",
              "\n",
              "    .dataframe thead th {\n",
              "        text-align: right;\n",
              "    }\n",
              "</style>\n",
              "<table border=\"1\" class=\"dataframe\">\n",
              "  <thead>\n",
              "    <tr style=\"text-align: right;\">\n",
              "      <th></th>\n",
              "      <th>clean_text</th>\n",
              "      <th>labels</th>\n",
              "    </tr>\n",
              "  </thead>\n",
              "  <tbody>\n",
              "    <tr>\n",
              "      <th>0</th>\n",
              "      <td>turn on the light</td>\n",
              "      <td>activate lights none</td>\n",
              "    </tr>\n",
              "    <tr>\n",
              "      <th>1</th>\n",
              "      <td>turn off the light</td>\n",
              "      <td>deactivate lights none</td>\n",
              "    </tr>\n",
              "    <tr>\n",
              "      <th>2</th>\n",
              "      <td>change language</td>\n",
              "      <td>change language none none</td>\n",
              "    </tr>\n",
              "    <tr>\n",
              "      <th>3</th>\n",
              "      <td>pause the music</td>\n",
              "      <td>deactivate music none</td>\n",
              "    </tr>\n",
              "    <tr>\n",
              "      <th>4</th>\n",
              "      <td>resume</td>\n",
              "      <td>activate music none</td>\n",
              "    </tr>\n",
              "  </tbody>\n",
              "</table>\n",
              "</div>"
            ],
            "text/plain": [
              "           clean_text                     labels\n",
              "0   turn on the light       activate lights none\n",
              "1  turn off the light     deactivate lights none\n",
              "2     change language  change language none none\n",
              "3     pause the music      deactivate music none\n",
              "4              resume        activate music none"
            ]
          },
          "metadata": {},
          "execution_count": 75
        }
      ]
    },
    {
      "cell_type": "markdown",
      "metadata": {
        "id": "xfliEBaobPLG"
      },
      "source": [
        "**TF-IDF VECTORIZATION**"
      ]
    },
    {
      "cell_type": "code",
      "metadata": {
        "id": "GqSZVtd4Sfmf"
      },
      "source": [
        "from sklearn.feature_extraction.text import TfidfVectorizer\n",
        "from sklearn import metrics\n",
        "\n",
        "vectorizer = TfidfVectorizer()\n",
        "vectorised_train_documents = vectorizer.fit_transform(train[\"clean_text\"])\n",
        "vectorised_test_documents = vectorizer.transform(valid[\"clean_text\"])"
      ],
      "execution_count": 83,
      "outputs": []
    },
    {
      "cell_type": "code",
      "metadata": {
        "colab": {
          "base_uri": "https://localhost:8080/"
        },
        "id": "zcfTEtP8SyIC",
        "outputId": "275e0eab-a837-4533-fc52-214149343a71"
      },
      "source": [
        "train_categories=train['labels']\n",
        "train_categories.head()"
      ],
      "execution_count": 84,
      "outputs": [
        {
          "output_type": "execute_result",
          "data": {
            "text/plain": [
              "0         activate lights kitchen\n",
              "1              increase heat none\n",
              "2    change language Chinese none\n",
              "3          decrease heat washroom\n",
              "4       change language none none\n",
              "Name: labels, dtype: object"
            ]
          },
          "metadata": {},
          "execution_count": 84
        }
      ]
    },
    {
      "cell_type": "code",
      "metadata": {
        "colab": {
          "base_uri": "https://localhost:8080/"
        },
        "id": "IlBSnuJLNBMY",
        "outputId": "3e9971f3-6ba2-4bfc-fc81-df8708d07eb1"
      },
      "source": [
        "test_categories=valid['labels']\n",
        "test_categories.head()"
      ],
      "execution_count": 87,
      "outputs": [
        {
          "output_type": "execute_result",
          "data": {
            "text/plain": [
              "0         activate lights none\n",
              "1       deactivate lights none\n",
              "2    change language none none\n",
              "3        deactivate music none\n",
              "4          activate music none\n",
              "Name: labels, dtype: object"
            ]
          },
          "metadata": {},
          "execution_count": 87
        }
      ]
    },
    {
      "cell_type": "markdown",
      "metadata": {
        "id": "fB3kBak-bUVX"
      },
      "source": [
        "**VECTORIZE OUTPUT LABELS**"
      ]
    },
    {
      "cell_type": "code",
      "metadata": {
        "id": "b3UVUIVeC-Vh"
      },
      "source": [
        "from sklearn.preprocessing import MultiLabelBinarizer\n",
        "\n",
        "mlb = MultiLabelBinarizer()\n",
        "train_labels = mlb.fit_transform(train_categories)\n",
        "test_labels = mlb.transform(test_categories)"
      ],
      "execution_count": 88,
      "outputs": []
    },
    {
      "cell_type": "code",
      "metadata": {
        "colab": {
          "base_uri": "https://localhost:8080/"
        },
        "id": "xDCjB8RakEO-",
        "outputId": "0b2c3e01-30a4-40a7-ee32-ee3b2de98d83"
      },
      "source": [
        "train_labels"
      ],
      "execution_count": 89,
      "outputs": [
        {
          "output_type": "execute_result",
          "data": {
            "text/plain": [
              "array([[1, 0, 0, ..., 0, 1, 0],\n",
              "       [1, 0, 0, ..., 0, 0, 0],\n",
              "       [1, 1, 0, ..., 1, 0, 0],\n",
              "       ...,\n",
              "       [1, 0, 0, ..., 0, 0, 0],\n",
              "       [1, 0, 0, ..., 1, 1, 0],\n",
              "       [1, 0, 0, ..., 0, 1, 0]])"
            ]
          },
          "metadata": {},
          "execution_count": 89
        }
      ]
    },
    {
      "cell_type": "code",
      "metadata": {
        "id": "1Xoe6wLUk0fz",
        "colab": {
          "base_uri": "https://localhost:8080/"
        },
        "outputId": "cd16147c-0873-4a0f-a39a-48467531ec13"
      },
      "source": [
        "test_labels"
      ],
      "execution_count": 90,
      "outputs": [
        {
          "output_type": "execute_result",
          "data": {
            "text/plain": [
              "array([[1, 0, 0, ..., 0, 1, 0],\n",
              "       [1, 0, 0, ..., 0, 1, 0],\n",
              "       [1, 0, 0, ..., 1, 0, 0],\n",
              "       ...,\n",
              "       [1, 0, 0, ..., 0, 1, 0],\n",
              "       [1, 0, 0, ..., 0, 1, 0],\n",
              "       [1, 0, 0, ..., 1, 1, 0]])"
            ]
          },
          "metadata": {},
          "execution_count": 90
        }
      ]
    },
    {
      "cell_type": "markdown",
      "metadata": {
        "id": "Ft3AMTodbcrW"
      },
      "source": [
        "**KNN MODEL**"
      ]
    },
    {
      "cell_type": "code",
      "metadata": {
        "id": "8n0V4KTLNpH4"
      },
      "source": [
        "from sklearn.neighbors import KNeighborsClassifier\n",
        "from sklearn.multiclass import OneVsRestClassifier\n",
        "\n",
        "knnClf = KNeighborsClassifier()\n",
        "\n",
        "knnClf.fit(vectorised_train_documents, train_labels)\n",
        "knnPredictions = knnClf.predict(vectorised_test_documents)\n",
        "metricsReport(\"knn\", test_labels, knnPredictions)"
      ],
      "execution_count": 102,
      "outputs": []
    },
    {
      "cell_type": "markdown",
      "metadata": {
        "id": "nR0Dfug8bjCM"
      },
      "source": [
        "**RANDOM FOREST CLASSIFIER**"
      ]
    },
    {
      "cell_type": "code",
      "metadata": {
        "id": "X1CIzZK6U51l"
      },
      "source": [
        "from sklearn.ensemble import RandomForestClassifier\n",
        "rfClassifier = RandomForestClassifier(n_jobs=-1)\n",
        "rfClassifier.fit(vectorised_train_documents, train_labels)\n",
        "rfPreds = rfClassifier.predict(vectorised_test_documents)\n",
        "metricsReport(\"Random Forest\", test_labels, rfPreds)"
      ],
      "execution_count": 103,
      "outputs": []
    },
    {
      "cell_type": "markdown",
      "metadata": {
        "id": "EjXxaBJ_bmxH"
      },
      "source": [
        "**BAGGING CLASSIFIER**"
      ]
    },
    {
      "cell_type": "code",
      "metadata": {
        "colab": {
          "base_uri": "https://localhost:8080/"
        },
        "id": "0sHVXS19Neff",
        "outputId": "ffcbb749-00d5-4e4b-c57c-e3a7b2f746c2"
      },
      "source": [
        "from sklearn.ensemble import BaggingClassifier\n",
        "\n",
        "bagClassifier = OneVsRestClassifier(BaggingClassifier(n_jobs=-1))\n",
        "bagClassifier.fit(vectorised_train_documents, train_labels)\n",
        "bagPreds = bagClassifier.predict(vectorised_test_documents)\n",
        "metricsReport(\"Bagging\", test_labels, bagPreds)"
      ],
      "execution_count": 104,
      "outputs": [
        {
          "output_type": "stream",
          "name": "stderr",
          "text": [
            "/usr/local/lib/python3.7/dist-packages/sklearn/multiclass.py:75: UserWarning: Label 0 is present in all training examples.\n",
            "  str(classes[c]))\n",
            "/usr/local/lib/python3.7/dist-packages/sklearn/multiclass.py:75: UserWarning: Label 9 is present in all training examples.\n",
            "  str(classes[c]))\n"
          ]
        }
      ]
    },
    {
      "cell_type": "markdown",
      "metadata": {
        "id": "wmSODfHCbqey"
      },
      "source": [
        "**GRADIENT BOOSTING CLASSIFIER**"
      ]
    },
    {
      "cell_type": "code",
      "metadata": {
        "colab": {
          "base_uri": "https://localhost:8080/"
        },
        "id": "eHXLOP9lOWvO",
        "outputId": "2a8142c6-a22c-4245-b7c6-92f72919a561"
      },
      "source": [
        "from sklearn.ensemble import GradientBoostingClassifier\n",
        "\n",
        "boostClassifier = OneVsRestClassifier(GradientBoostingClassifier())\n",
        "boostClassifier.fit(vectorised_train_documents, train_labels)\n",
        "boostPreds = boostClassifier.predict(vectorised_test_documents)\n",
        "metricsReport(\"Boosting\", test_labels, boostPreds)"
      ],
      "execution_count": 106,
      "outputs": [
        {
          "output_type": "stream",
          "name": "stderr",
          "text": [
            "/usr/local/lib/python3.7/dist-packages/sklearn/multiclass.py:75: UserWarning: Label 0 is present in all training examples.\n",
            "  str(classes[c]))\n",
            "/usr/local/lib/python3.7/dist-packages/sklearn/multiclass.py:75: UserWarning: Label 9 is present in all training examples.\n",
            "  str(classes[c]))\n",
            "/usr/local/lib/python3.7/dist-packages/sklearn/multiclass.py:75: UserWarning: Label 0 is present in all training examples.\n",
            "  str(classes[c]))\n",
            "/usr/local/lib/python3.7/dist-packages/sklearn/multiclass.py:75: UserWarning: Label 9 is present in all training examples.\n",
            "  str(classes[c]))\n"
          ]
        }
      ]
    },
    {
      "cell_type": "code",
      "metadata": {
        "id": "A4nuJb5QVFAL"
      },
      "source": [
        ""
      ],
      "execution_count": null,
      "outputs": []
    }
  ]
}